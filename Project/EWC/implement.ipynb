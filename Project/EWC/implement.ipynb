{
 "cells": [
  {
   "attachments": {},
   "cell_type": "markdown",
   "metadata": {},
   "source": [
    "Original repository: https://github.com/clam004/intro_continual_learning"
   ]
  },
  {
   "attachments": {},
   "cell_type": "markdown",
   "metadata": {},
   "source": [
    "# Part 1 초기 모델"
   ]
  },
  {
   "cell_type": "code",
   "execution_count": 1,
   "metadata": {},
   "outputs": [
    {
     "name": "stdout",
     "output_type": "stream",
     "text": [
      "you are using cuda, PyTorch version: 1.10.0+cu111\n"
     ]
    }
   ],
   "source": [
    "import torch\n",
    "device = torch.device(\"cuda\" if torch.cuda.is_available() else \"cpu\")\n",
    "print(f'you are using {device}, PyTorch version: {torch.__version__}')"
   ]
  },
  {
   "cell_type": "code",
   "execution_count": 3,
   "metadata": {},
   "outputs": [
    {
     "name": "stdout",
     "output_type": "stream",
     "text": [
      "개수 확인: 2000 2000\n"
     ]
    }
   ],
   "source": [
    "from pathlib import Path\n",
    "\n",
    "# 1. 데이터셋 불러오기\n",
    "dir = Path('비공개')\n",
    "img_paths = list(dir.glob('비공개')) + list(dir.glob('비공개'))\n",
    "labels = [0]*1000 + [1]*1000\n",
    "\n",
    "print('개수 확인:', len(img_paths), len(labels))"
   ]
  },
  {
   "cell_type": "code",
   "execution_count": 4,
   "metadata": {},
   "outputs": [],
   "source": [
    "from sklearn.model_selection import train_test_split\n",
    "(X_train, X_test, y_train, y_test) = train_test_split(img_paths, labels, stratify=labels,\n",
    "                                                      random_state=42, test_size=0.2, shuffle=True, )"
   ]
  },
  {
   "cell_type": "code",
   "execution_count": 5,
   "metadata": {},
   "outputs": [
    {
     "name": "stdout",
     "output_type": "stream",
     "text": [
      "1600 400\n"
     ]
    }
   ],
   "source": [
    "print(len(X_train), len(X_test))"
   ]
  },
  {
   "cell_type": "code",
   "execution_count": 7,
   "metadata": {},
   "outputs": [
    {
     "name": "stdout",
     "output_type": "stream",
     "text": [
      "train set: 1600, test set: 400\n"
     ]
    }
   ],
   "source": [
    "# Dataset: 데이터 어떻게 불러올건지 정의\n",
    "from torchvision.transforms import transforms\n",
    "from torch.utils.data import Dataset\n",
    "from PIL import Image\n",
    "\n",
    "transform = transforms.Compose([transforms.ToTensor(),\n",
    "                                transforms.Resize((224, 224)), ])\n",
    "\n",
    "class EgdDataset(Dataset):\n",
    "     def __init__(self, img_paths, labels, transform):\n",
    "          # self.img_paths = img_paths\n",
    "          # self.labels = labels \n",
    "          self.imgs = [transform(Image.open(img)) for img in img_paths]\n",
    "          self.labels = torch.Tensor([label for label in labels])\n",
    "          self.transform = transform\n",
    "     \n",
    "     def __len__(self):\n",
    "          return len(self.labels)\n",
    "     \n",
    "     def __getitem__(self, idx):\n",
    "          # img_path = self.img_paths[idx]\n",
    "          # img = self.transform(Image.open(img_path).convert(\"RGB\"))\n",
    "          # label = torch.tensor(self.labels[idx])\n",
    "          img = self.imgs[idx]\n",
    "          label = self.labels[idx]\n",
    "          return img, label\n",
    "\n",
    "train_dataset = EgdDataset(X_train, y_train, transform)\n",
    "test_dataset = EgdDataset(X_test, y_test, transform)\n",
    "\n",
    "print(f\"train set: {len(train_dataset)}, test set: {len(test_dataset)}\")"
   ]
  },
  {
   "attachments": {},
   "cell_type": "markdown",
   "metadata": {},
   "source": [
    "참고:  \n",
    "- train_dataset: len=1600 이미지 갯수\n",
    "- train_dataset[0]: len=2 (img, label)\n",
    "- train_dataset[0][0]: [3, 224, 224] "
   ]
  },
  {
   "cell_type": "code",
   "execution_count": null,
   "metadata": {},
   "outputs": [],
   "source": [
    "# 변형된 이미지 출력\n",
    "import matplotlib.pyplot as plt\n",
    "tmp = train_dataset[0][0].permute(1, 2, 0).numpy() # imshow로 뿌려주기 위해 (w, h, 채널) 으로 변환 후 \n",
    "plt.imshow(tmp); plt.show()"
   ]
  },
  {
   "cell_type": "code",
   "execution_count": 9,
   "metadata": {},
   "outputs": [],
   "source": [
    "# 2. 데이터 적재 (DataLoader)\n",
    "from torch.utils.data import DataLoader\n",
    "\n",
    "train_loader = DataLoader(dataset=train_dataset, batch_size=8, shuffle=True, num_workers=0) # num_worker 수정하면 에러남\n",
    "test_loader  = DataLoader(dataset=test_dataset, batch_size=8, shuffle=False, num_workers=0)"
   ]
  },
  {
   "attachments": {},
   "cell_type": "markdown",
   "metadata": {},
   "source": [
    "참고  \n",
    "- len( iter(train_loader) ): mini_batch 갯수(=전체 갯수 / batch_size)\n",
    "- len( next(iter(train_loader)) ): 2 (=imgs, labels)\n",
    "- len( next(iter(train_loader))[0] ): 8 (=batch_size)\n",
    "- next(iter(train_loader))[0][0]: 첫번째 배치의 첫번째 이미지 크기 [3, 224, 224] "
   ]
  },
  {
   "cell_type": "code",
   "execution_count": null,
   "metadata": {},
   "outputs": [],
   "source": [
    "tmp = next(iter(train_loader))[0][0]    # 첫 번째 mini-batch의 첫 번째 요소\n",
    "print(tmp.size())\n",
    "\n",
    "plt.imshow(tmp.permute(1, 2, 0).numpy()); plt.show()"
   ]
  },
  {
   "attachments": {},
   "cell_type": "markdown",
   "metadata": {},
   "source": [
    "### 모델 구성"
   ]
  },
  {
   "cell_type": "code",
   "execution_count": 11,
   "metadata": {},
   "outputs": [],
   "source": [
    "# autorelod: 모듈 수정 후 자동으로 reload. \n",
    "#            .py 수정 후 다시 import 안 해도 됨\n",
    "%load_ext autoreload\n",
    "%autoreload 2\n",
    "%matplotlib inline"
   ]
  },
  {
   "cell_type": "code",
   "execution_count": 13,
   "metadata": {},
   "outputs": [],
   "source": [
    "import numpy as np\n",
    "from tqdm.notebook import tqdm\n",
    "from contlearn.gettrainer import one_epoch_baseline, test, var2device\n",
    "\n",
    "def baseline_training(\n",
    "    model, \n",
    "    epochs,\n",
    "    train_loader,\n",
    "    test_loader,\n",
    "    test2_loader = None,\n",
    "):  \n",
    "    \"\"\"\n",
    "    This function saves the training curve data consisting\n",
    "    training set loss and validation set accuracy over the\n",
    "    course of the epochs of training.\n",
    "    \n",
    "    I set this up such that if you provide 2 test sets, \n",
    "    you can watch the test accuracy change together during training\n",
    "    on train_loder\n",
    "    \"\"\"\n",
    "    \n",
    "    train_loss, train_acc, test_acc, test2_acc = [], [], [], []\n",
    "    best_acc = 0.0\n",
    "    \n",
    "    for epoch in tqdm(range(epochs)):\n",
    "        \n",
    "        # 훈련\n",
    "        epoch_loss = one_epoch_baseline(model, train_loader)\n",
    "        train_loss.append(epoch_loss)\n",
    "        \n",
    "        # 정확도 저장\n",
    "        acc = test(model, train_loader)\n",
    "        train_acc.append(acc.detach().cpu().numpy())\n",
    "        \n",
    "        acc = test(model, test_loader)\n",
    "        test_acc.append(acc.detach().cpu().numpy())\n",
    "        \n",
    "        if test2_loader is not None:\n",
    "            acc = test(model, test2_loader)\n",
    "            test2_acc.append(acc.detach().cpu().numpy())\n",
    "            \n",
    "        if test_acc[-1] > best_acc:\n",
    "            best_acc = test_acc[-1]\n",
    "            torch.save(model, \"results/baseline_best2.pth\")\n",
    "        \n",
    "    # save the trained model\n",
    "    torch.save(model, \"results/baseline_last2.pth\")\n",
    "    \n",
    "    return train_loss, train_acc, test_acc, test2_acc, model"
   ]
  },
  {
   "attachments": {},
   "cell_type": "markdown",
   "metadata": {},
   "source": [
    "- 참고: 모델 저장시 model vs model.state_dict()\n",
    "     - torch.save(model): 모델 전체 저장 (파라미터, 옵티마이저, 에포크 등). 타인한테 그대로 주면 쓸 수 있을 정도로 편리하나 용량도 크다\n",
    "     - torch.save(model.state_dict()): 파라미터(가중치, 편향)만 저장. 모델이 구현되어있는 경우 파라미터를 채워서 사용할 수 있음. 전이학습에 유용"
   ]
  },
  {
   "attachments": {},
   "cell_type": "markdown",
   "metadata": {},
   "source": [
    "**훈련**"
   ]
  },
  {
   "cell_type": "code",
   "execution_count": null,
   "metadata": {},
   "outputs": [],
   "source": [
    "# 모델 정의: models > vgg\n",
    "# 모델 초기화\n",
    "from models.vgg import bn_vgg11b\n",
    "model = bn_vgg11b(num_classes=4, in_size=(224, 224))\n",
    "\n",
    "if str(device) == \"cuda\":\n",
    "    model.cuda()\n",
    "\n",
    "# 3. 훈련 (단순 분류 모델 사용)\n",
    "train_loss, train_acc, test_acc, test2_acc, model = baseline_training(\n",
    "    model,\n",
    "    epochs = 10,\n",
    "    train_loader = train_loader,\n",
    "    test_loader = test_loader,\n",
    ")"
   ]
  },
  {
   "attachments": {},
   "cell_type": "markdown",
   "metadata": {},
   "source": [
    "**성능 확인**"
   ]
  },
  {
   "cell_type": "code",
   "execution_count": 15,
   "metadata": {},
   "outputs": [],
   "source": [
    "# metrics 따로 복사해두기\n",
    "from copy import deepcopy\n",
    "baseline_train_loss = deepcopy(train_loss)\n",
    "baseline_train_acc = deepcopy(train_acc)\n",
    "baseline_test_acc = deepcopy(test_acc)\n",
    "baseline_model = deepcopy(model)"
   ]
  },
  {
   "cell_type": "code",
   "execution_count": 17,
   "metadata": {},
   "outputs": [
    {
     "name": "stdout",
     "output_type": "stream",
     "text": [
      "accuracy on train set 0.9312499761581421\n",
      "accuracy on test set 0.9199999570846558\n"
     ]
    }
   ],
   "source": [
    "acc = test(baseline_model.cuda(), train_loader)\n",
    "print(\"accuracy on train set\", acc.item())\n",
    "acc = test(baseline_model.cuda(), test_loader)\n",
    "print(\"accuracy on test set\", acc.item())"
   ]
  },
  {
   "cell_type": "code",
   "execution_count": 18,
   "metadata": {},
   "outputs": [
    {
     "data": {
      "image/png": "[encoded data removed]",
      "text/plain": [
       "<Figure size 864x216 with 2 Axes>"
      ]
     },
     "metadata": {
      "needs_background": "light"
     },
     "output_type": "display_data"
    }
   ],
   "source": [
    "# 4. 성능 확인(그래프): train_loss, test_acc\n",
    "'''plt.figure()\n",
    "plt.xlabel('epochs', fontsize=25)\n",
    "plt.ylabel('test accuracy', fontsize=25)\n",
    "plt.plot(test_acc); plt.show()'''\n",
    "\n",
    "fig, axes = plt.subplots(1, 2, figsize=(12, 3))\n",
    "\n",
    "ax = axes[0]\n",
    "ax.plot(train_acc)\n",
    "ax.set_xlabel('epochs', fontsize=15)\n",
    "ax.plot(train_loss, c='orange')\n",
    "ax.legend(['train_acc', 'train_loss'])\n",
    "\n",
    "ax = axes[1]\n",
    "ax.plot(train_acc)\n",
    "ax.set_xlabel('epochs', fontsize=15)\n",
    "ax.plot(test_acc, c='orange')\n",
    "ax.legend(['train_acc', 'test_acc'])\n",
    "\n",
    "# subplot 간 간격 조절\n",
    "plt.subplots_adjust(left=0.1, right=0.95, bottom=0.1, top=0.95, wspace=0.7, hspace=0.5)\n",
    "plt.show()"
   ]
  },
  {
   "attachments": {},
   "cell_type": "markdown",
   "metadata": {},
   "source": [
    "epoch=50일때 trainset에 과적합 되는 모습 보여서 epoch=10으로 훈련한 모델을 사용"
   ]
  },
  {
   "attachments": {},
   "cell_type": "markdown",
   "metadata": {},
   "source": [
    "# Part 2. Catastrophic Forgetting  \n",
    "- pretrained 불러와서 이어서 학습"
   ]
  },
  {
   "cell_type": "code",
   "execution_count": null,
   "metadata": {},
   "outputs": [
    {
     "name": "stdout",
     "output_type": "stream",
     "text": [
      "개수 확인: 2000 2000\n"
     ]
    }
   ],
   "source": [
    "# 새로운 데이터 불러오기\n",
    "from pathlib import Path\n",
    "img_paths_2 = list(Path(r'비공개').glob('*'))\n",
    "labels_2 = [2]*1000 + [3]*1000\n",
    "\n",
    "print('개수 확인:', len(img_paths), len(labels))"
   ]
  },
  {
   "cell_type": "code",
   "execution_count": 80,
   "metadata": {},
   "outputs": [],
   "source": [
    "# 데이터 적재\n",
    "from sklearn.model_selection import train_test_split\n",
    "(X_train_2, X_test_2, y_train_2, y_test_2) = train_test_split(img_paths_2, labels_2,\n",
    "                                                      random_state=42, test_size=0.1, shuffle=True, stratify=labels_2)\n",
    "\n",
    "train_dataset_2 = EgdDataset(X_train_2, y_train_2, transform)\n",
    "test_dataset_2 = EgdDataset(X_test_2, y_test_2, transform)\n",
    "\n",
    "train_loader_2 = DataLoader(dataset=train_dataset_2, batch_size=8, shuffle=True, num_workers=0)\n",
    "test_loader_2 = DataLoader(dataset=test_dataset_2, batch_size=8, shuffle=False, num_workers=0)"
   ]
  },
  {
   "cell_type": "code",
   "execution_count": null,
   "metadata": {},
   "outputs": [],
   "source": [
    "from models.vgg import bn_vgg11b\n",
    "# model = bn_vgg11b(num_classes=4, in_size=(224, 224))\n",
    "model = torch.load(\"results/baseline_last2.pth\")\n",
    "\n",
    "train_loss, train_acc, test_acc, test2_acc, model = baseline_training(\n",
    "    model.cuda(),\n",
    "    epochs = 2,\n",
    "    train_loader = train_loader_2,\n",
    "    test_loader = test_loader_2,    # new task (class: adenoma)\n",
    "    test2_loader = test_loader,     # old task (class: normal, cancer)\n",
    ")"
   ]
  },
  {
   "cell_type": "code",
   "execution_count": 87,
   "metadata": {},
   "outputs": [
    {
     "data": {
      "image/png": "[encoded data removed]",
      "text/plain": [
       "<Figure size 432x288 with 1 Axes>"
      ]
     },
     "metadata": {
      "needs_background": "light"
     },
     "output_type": "display_data"
    }
   ],
   "source": [
    "# 성능 확인 (그래프)\n",
    "import matplotlib.pyplot as plt\n",
    "plt.figure()\n",
    "plt.xlabel('epochs', fontsize=25)\n",
    "plt.ylabel('test accuracy', fontsize=25)\n",
    "plt.plot(test_acc)\n",
    "plt.plot(test2_acc)\n",
    "plt.legend(['new_task', 'old_task'])\n",
    "plt.show()"
   ]
  },
  {
   "attachments": {},
   "cell_type": "markdown",
   "metadata": {},
   "source": [
    "과거 task는 정확도가 0.5 정도로 떨어짐"
   ]
  },
  {
   "attachments": {},
   "cell_type": "markdown",
   "metadata": {},
   "source": [
    "- 전체 데이터셋으로도 테스트"
   ]
  },
  {
   "cell_type": "code",
   "execution_count": null,
   "metadata": {},
   "outputs": [],
   "source": [
    "# 전체 데이터 불러오기\n",
    "dir = Path(r'비공개')\n",
    "img_paths2 = list(dir.glob('*/*'))\n",
    "labels2 = [0]*1000 + [1]*1000 + [2]*1000 + [3]*1000\n",
    "\n",
    "# 데이터 적재\n",
    "\n",
    "from sklearn.model_selection import train_test_split\n",
    "(X_train2, X_test2, y_train2, y_test2) = train_test_split(img_paths2, labels2,\n",
    "                                                      random_state=42, test_size=0.1, shuffle=True, stratify=labels2)\n",
    "(X_train2, X_val2, y_train2, y_val2) = train_test_split(X_train2, y_train2,\n",
    "                                                      random_state=42, test_size=0.2, stratify=y_train2)\n",
    "\n",
    "train_dataset2 = EgdDataset(X_train2, y_train2, transform)\n",
    "test_dataset2 = EgdDataset(X_test2, y_test2, transform)\n",
    "\n",
    "train_loader2 = DataLoader(dataset=train_dataset2, batch_size=2, shuffle=True, num_workers=0)\n",
    "test_loader2 = DataLoader(dataset=test_dataset2, batch_size=2, shuffle=False, num_workers=0)"
   ]
  },
  {
   "cell_type": "code",
   "execution_count": 21,
   "metadata": {},
   "outputs": [
    {
     "name": "stdout",
     "output_type": "stream",
     "text": [
      "새로운 class 추가 후 과거 데이터에서의 정확도:  0.505\n",
      "새로운 class 추가 후 전체 데이터에서의 정확도 0.67\n"
     ]
    }
   ],
   "source": [
    "acc = test(model, test_loader)\n",
    "acc = acc.detach().cpu().numpy()\n",
    "print('새로운 class 추가 후 과거 데이터에서의 정확도: ', acc)\n",
    "\n",
    "total_acc = test(model, test_loader2)\n",
    "total_acc = total_acc.detach().cpu().numpy()\n",
    "print('새로운 class 추가 후 전체 데이터에서의 정확도:', total_acc)"
   ]
  },
  {
   "attachments": {},
   "cell_type": "markdown",
   "metadata": {},
   "source": [
    "# Part 2 EWC\n",
    "- Class: normal, cancer **+ adenoma**"
   ]
  },
  {
   "attachments": {},
   "cell_type": "markdown",
   "metadata": {},
   "source": [
    "1. old task로부터 샘플 추출 (mini-batch size만큼)"
   ]
  },
  {
   "cell_type": "code",
   "execution_count": null,
   "metadata": {},
   "outputs": [],
   "source": [
    "# instead of revisiting every old MNIST example to build our Fisher Information Matrix\n",
    "# use num_samples of them to calculate a approximate of the matrix\n",
    "import random\n",
    "torch.manual_seed(0)\n",
    "np.random.seed(0)\n",
    "random.seed(0)\n",
    "\n",
    "num_batches = 200 # 수정: 우선 임의의 수로 지정함\n",
    "\n",
    "old_tasks = []\n",
    "\n",
    "for sample in range(num_batches):\n",
    "    input_batch, target_batch = next(iter(train_loader))\n",
    "    for image in input_batch:\n",
    "        old_tasks.append(image)"
   ]
  },
  {
   "cell_type": "code",
   "execution_count": 115,
   "metadata": {},
   "outputs": [
    {
     "data": {
      "text/plain": [
       "(3, 224, 224)"
      ]
     },
     "execution_count": 115,
     "metadata": {},
     "output_type": "execute_result"
    }
   ],
   "source": [
    "np.array(old_tasks[0]).shape\n",
    "#len(old_tasks)"
   ]
  },
  {
   "attachments": {},
   "cell_type": "markdown",
   "metadata": {},
   "source": [
    "old_task에서의 정확도 확인"
   ]
  },
  {
   "cell_type": "code",
   "execution_count": 175,
   "metadata": {},
   "outputs": [
    {
     "name": "stdout",
     "output_type": "stream",
     "text": [
      "The autoreload extension is already loaded. To reload it, use:\n",
      "  %reload_ext autoreload\n",
      "accuracy on test set 0.9649999737739563\n"
     ]
    }
   ],
   "source": [
    "%load_ext autoreload\n",
    "%autoreload 2\n",
    "%matplotlib inline\n",
    "\n",
    "# 모델 새로 정의: models > vgg\n",
    "from models.vgg import bn_vgg11b\n",
    "model = bn_vgg11b(num_classes=4, in_size=(224, 224))\n",
    "\n",
    "### load a model previously trained on one task, task A ###\n",
    "model = torch.load(\"results/basemodel2.pth\")\n",
    "\n",
    "model.cuda()    \n",
    "# tensor(0.8238, device='cuda:0') means that the test set accuracy was 82.4%\n",
    "# compared to a baseline accuracy of 10% if the model is choosing randomly\n",
    "acc = test(model, test_loader)\n",
    "print(\"accuracy on test set\", acc.item())"
   ]
  },
  {
   "cell_type": "code",
   "execution_count": 176,
   "metadata": {},
   "outputs": [],
   "source": [
    "# EWC: gettrainer.py에 정의해놓음\n",
    "from contlearn.gettrainer import EWC\n",
    "# old task에 사전학습된 모델을 EWC 클래스로 감싸주기\n",
    "# place the model pretrained on mnist, but not fashion-mnist, along with some mnist examples\n",
    "# into the Elastic Weight Consolidation object to perform EWC related tasks like calculating the Fisher Matrix\n",
    "ewc = EWC(model, old_tasks)"
   ]
  },
  {
   "cell_type": "code",
   "execution_count": 118,
   "metadata": {},
   "outputs": [
    {
     "name": "stdout",
     "output_type": "stream",
     "text": [
      "name of this layer's weights: features.stage1.unit1.conv.weight\n",
      "shape of this matrix W: torch.Size([32, 3, 3, 3])\n",
      "norm of the matrix 0.0\n"
     ]
    }
   ],
   "source": [
    "# 파라미터 초기화\n",
    "from copy import deepcopy\n",
    "\n",
    "precision_matrices = {}\n",
    "for n, p in deepcopy(ewc.params).items():\n",
    "    \n",
    "    print(\"name of this layer's weights:\", n)\n",
    "    p.data.zero_()\n",
    "    precision_matrices[n] = var2device(p.data)\n",
    "    print(\"shape of this matrix W:\", precision_matrices[n].shape)\n",
    "    #print(precision_matrices[n])\n",
    "    print(\"norm of the matrix\", torch.norm(precision_matrices[n]).item())\n",
    "    break"
   ]
  },
  {
   "attachments": {},
   "cell_type": "markdown",
   "metadata": {},
   "source": [
    "ewc 모델 학습 전 성능 확인"
   ]
  },
  {
   "cell_type": "code",
   "execution_count": 121,
   "metadata": {},
   "outputs": [
    {
     "data": {
      "text/plain": [
       "torch.Size([3, 224, 224])"
      ]
     },
     "execution_count": 121,
     "metadata": {},
     "output_type": "execute_result"
    }
   ],
   "source": [
    "(input[0]).shape"
   ]
  },
  {
   "cell_type": "code",
   "execution_count": null,
   "metadata": {},
   "outputs": [],
   "source": [
    "from torch.nn import functional as F\n",
    "\n",
    "ewc.model.eval()\n",
    "for input in ewc.dataset:\n",
    "    ewc.model.zero_grad()\n",
    "    \n",
    "    input = input.view(1, input.size(0), input.size(1), input.size(2))\n",
    "    input = var2device(input)\n",
    "    output = ewc.model(input).view(1, -1)\n",
    "    label = output.max(1)[1].view(-1)\n",
    "    loss = F.nll_loss(F.log_softmax(output, dim=1), label)\n",
    "    loss.backward()    \n",
    "    break\n",
    "\n",
    "print(\"input.shape\", input.shape)\n",
    "#img = Image.fromarray(input[0].detach().cpu().numpy())*255)\n",
    "tmp = input[0].detach().cpu().permute(1, 2, 0).numpy()\n",
    "plt.imshow(tmp)\n",
    "\n",
    "print(list(output.detach().cpu().numpy()[0]))\n",
    "print(\"predicted number\", label)\n",
    "print(\"loss\", loss.item())"
   ]
  },
  {
   "cell_type": "code",
   "execution_count": 154,
   "metadata": {},
   "outputs": [],
   "source": [
    "from contlearn.gettrainer import one_epoch_ewc\n",
    "\n",
    "def ewc_training(\n",
    "    ewc,\n",
    "    importance,\n",
    "    model, \n",
    "    epochs, \n",
    "    train_loader,\n",
    "    val_loader,\n",
    "    test_loader = None,\n",
    "    use_cuda=True, \n",
    "):\n",
    "    \n",
    "    \"\"\"\n",
    "    This function saves the training curve data consisting\n",
    "    training set loss and validation set accuracy over the\n",
    "    course of the epochs of training.\n",
    "    \n",
    "    I set this up such that if you provide 2 test sets,you\n",
    "    can watch the test accuracy change together during training\n",
    "    on train_loder\n",
    "    \"\"\"\n",
    "    \n",
    "    if torch.cuda.is_available() and use_cuda:\n",
    "        model.cuda()\n",
    "        \n",
    "    train_loss, val_acc, test_acc = [], [], []\n",
    "    \n",
    "    for epoch in tqdm(range(epochs)):\n",
    "\n",
    "        epoch_loss = one_epoch_ewc(ewc,importance, model, train_loader)\n",
    "        train_loss.append(epoch_loss)\n",
    "        \n",
    "        acc = test(model,val_loader)\n",
    "        val_acc.append(acc.detach().cpu().numpy())\n",
    "        \n",
    "        if test_loader is not None:\n",
    "            acc2 = test(model,test_loader)\n",
    "            test_acc.append(acc2.detach().cpu().numpy())\n",
    "            \n",
    "    return train_loss, val_acc, test_acc, model "
   ]
  },
  {
   "cell_type": "code",
   "execution_count": null,
   "metadata": {},
   "outputs": [],
   "source": [
    "import random\n",
    "torch.manual_seed(0)\n",
    "np.random.seed(0)\n",
    "random.seed(0)\n",
    "\n",
    "train_loss, val_acc, val2_acc, model = ewc_training(\n",
    "    ewc = ewc,\n",
    "    importance = 900,\n",
    "    model = model,\n",
    "    epochs = 30,\n",
    "    train_loader = train_loader_new,\n",
    "    val_loader = test_loader,\n",
    "    test_loader = test_loader2,\n",
    ")"
   ]
  },
  {
   "cell_type": "code",
   "execution_count": 180,
   "metadata": {},
   "outputs": [
    {
     "data": {
      "image/png": "[encoded data removed]",
      "text/plain": [
       "<Figure size 432x288 with 1 Axes>"
      ]
     },
     "metadata": {
      "needs_background": "light"
     },
     "output_type": "display_data"
    }
   ],
   "source": [
    "plt.figure()\n",
    "plt.xlabel('epochs', fontsize=25)\n",
    "plt.ylabel('test accuracy', fontsize=25)\n",
    "plt.plot(val_acc, label='old_dataset')\n",
    "plt.plot(val2_acc, label='total_dataset')\n",
    "plt.legend()\n",
    "plt.show()"
   ]
  },
  {
   "attachments": {},
   "cell_type": "markdown",
   "metadata": {},
   "source": [
    "importance=900"
   ]
  },
  {
   "cell_type": "code",
   "execution_count": 172,
   "metadata": {},
   "outputs": [
    {
     "data": {
      "image/png": "[encoded data removed]",
      "text/plain": [
       "<Figure size 432x288 with 1 Axes>"
      ]
     },
     "metadata": {
      "needs_background": "light"
     },
     "output_type": "display_data"
    },
    {
     "name": "stdout",
     "output_type": "stream",
     "text": [
      "새로운 class 추가 후 과거 데이터에서의 정확도:  0.81\n",
      "새로운 class 추가 후 전체 데이터에서의 정확도: 0.87333333\n"
     ]
    }
   ],
   "source": [
    "plt.figure()\n",
    "plt.xlabel('epochs', fontsize=25)\n",
    "plt.ylabel('test accuracy', fontsize=25)\n",
    "plt.plot(val_acc, label='new_set')\n",
    "plt.plot(val2_acc, label='old_set')\n",
    "plt.legend()\n",
    "plt.show()\n",
    "\n",
    "acc = test(model.to(device), test_loader)\n",
    "acc = acc.detach().cpu().numpy()\n",
    "print('새로운 class 추가 후 과거 데이터에서의 정확도: ', acc)\n",
    "\n",
    "total_acc = test(model.to(device), test_loader2)\n",
    "total_acc = total_acc.detach().cpu().numpy()\n",
    "print('새로운 class 추가 후 전체 데이터에서의 정확도:', total_acc)\n",
    "\n",
    "# 모델 저장\n",
    "#torch.save(ewc.model.cpu(), \"results/ewcmodel_2.pth\")"
   ]
  },
  {
   "attachments": {},
   "cell_type": "markdown",
   "metadata": {},
   "source": [
    "- importance=800"
   ]
  },
  {
   "cell_type": "code",
   "execution_count": 164,
   "metadata": {},
   "outputs": [
    {
     "data": {
      "image/png": "[encoded data removed]",
      "text/plain": [
       "<Figure size 432x288 with 1 Axes>"
      ]
     },
     "metadata": {
      "needs_background": "light"
     },
     "output_type": "display_data"
    },
    {
     "name": "stdout",
     "output_type": "stream",
     "text": [
      "새로운 class 추가 후 과거 데이터에서의 정확도:  0.81\n",
      "새로운 class 추가 후 전체 데이터에서의 정확도: 0.87333333\n"
     ]
    }
   ],
   "source": [
    "plt.figure()\n",
    "plt.xlabel('epochs', fontsize=25)\n",
    "plt.ylabel('validation accuracy', fontsize=25)\n",
    "plt.plot(val_acc, label='new_set')\n",
    "plt.plot(val2_acc, label='old_set')\n",
    "plt.legend()\n",
    "plt.show()\n",
    "\n",
    "acc = test(model.to(device), test_loader)\n",
    "acc = acc.detach().cpu().numpy()\n",
    "print('새로운 class 추가 후 과거 데이터에서의 정확도: ', acc)\n",
    "\n",
    "total_acc = test(model.to(device), test_loader2)\n",
    "total_acc = total_acc.detach().cpu().numpy()\n",
    "print('새로운 class 추가 후 전체 데이터에서의 정확도:', total_acc)\n",
    "\n",
    "# 모델 저장\n",
    "torch.save(ewc.model.cpu(), \"results/ewcmodel_2.pth\")"
   ]
  },
  {
   "attachments": {},
   "cell_type": "markdown",
   "metadata": {},
   "source": [
    "- importance 700일때"
   ]
  },
  {
   "cell_type": "code",
   "execution_count": 162,
   "metadata": {},
   "outputs": [
    {
     "data": {
      "image/png": "[encoded data removed]",
      "text/plain": [
       "<Figure size 432x288 with 1 Axes>"
      ]
     },
     "metadata": {
      "needs_background": "light"
     },
     "output_type": "display_data"
    },
    {
     "name": "stdout",
     "output_type": "stream",
     "text": [
      "새로운 class 추가 후 과거 데이터에서의 정확도:  0.805\n",
      "새로운 class 추가 후 전체 데이터에서의 정확도: 0.87\n"
     ]
    }
   ],
   "source": [
    "plt.figure()\n",
    "plt.xlabel('epochs', fontsize=25)\n",
    "plt.ylabel('validation accuracy', fontsize=25)\n",
    "plt.plot(val_acc, label='new_set')\n",
    "plt.plot(val2_acc, label='old_set')\n",
    "plt.legend()\n",
    "plt.show()\n",
    "\n",
    "acc = test(model.to(device), test_loader)\n",
    "acc = acc.detach().cpu().numpy()\n",
    "print('새로운 class 추가 후 과거 데이터에서의 정확도: ', acc)\n",
    "\n",
    "total_acc = test(model.to(device), test_loader2)\n",
    "total_acc = total_acc.detach().cpu().numpy()\n",
    "print('새로운 class 추가 후 전체 데이터에서의 정확도:', total_acc)\n",
    "\n",
    "# 모델 저장\n",
    "torch.save(ewc.model.cpu(), \"results/ewcmodel_2.pth\")"
   ]
  },
  {
   "attachments": {},
   "cell_type": "markdown",
   "metadata": {},
   "source": [
    "**아래는 ewc 람다값 바꿔가며 실험해본것... 무시할 것**"
   ]
  },
  {
   "attachments": {},
   "cell_type": "markdown",
   "metadata": {},
   "source": [
    "importance=1000일때"
   ]
  },
  {
   "cell_type": "code",
   "execution_count": 157,
   "metadata": {},
   "outputs": [
    {
     "data": {
      "image/png": "[encoded data removed]",
      "text/plain": [
       "<Figure size 432x288 with 1 Axes>"
      ]
     },
     "metadata": {
      "needs_background": "light"
     },
     "output_type": "display_data"
    },
    {
     "name": "stdout",
     "output_type": "stream",
     "text": [
      "새로운 class 추가 후 과거 데이터에서의 정확도:  0.5\n",
      "새로운 class 추가 후 전체 데이터에서의 정확도: 0.33333334\n"
     ]
    }
   ],
   "source": [
    "plt.figure()\n",
    "plt.xlabel('epochs', fontsize=25)\n",
    "plt.ylabel('validation accuracy', fontsize=25)\n",
    "plt.plot(val_acc, label='new_set')\n",
    "plt.plot(val2_acc, label='old_set')\n",
    "plt.legend()\n",
    "plt.show()\n",
    "\n",
    "acc = test(model.to(device), test_loader)\n",
    "acc = acc.detach().cpu().numpy()\n",
    "print('새로운 class 추가 후 과거 데이터에서의 정확도: ', acc)\n",
    "\n",
    "total_acc = test(model.to(device), test_loader2)\n",
    "total_acc = total_acc.detach().cpu().numpy()\n",
    "print('새로운 class 추가 후 전체 데이터에서의 정확도:', total_acc)"
   ]
  },
  {
   "attachments": {},
   "cell_type": "markdown",
   "metadata": {},
   "source": [
    "importance=500일 때"
   ]
  },
  {
   "cell_type": "code",
   "execution_count": 151,
   "metadata": {},
   "outputs": [
    {
     "name": "stdout",
     "output_type": "stream",
     "text": [
      "새로운 class 추가 후 과거 데이터에서의 정확도:  0.79999995\n",
      "새로운 class 추가 후 전체 데이터에서의 정확도: 0.8666667\n"
     ]
    }
   ],
   "source": [
    "acc = test(model.to(device), test_loader)\n",
    "acc = acc.detach().cpu().numpy()\n",
    "print('새로운 class 추가 후 과거 데이터에서의 정확도: ', acc)\n",
    "\n",
    "total_acc = test(model.to(device), test_loader2)\n",
    "total_acc = total_acc.detach().cpu().numpy()\n",
    "print('새로운 class 추가 후 전체 데이터에서의 정확도:', total_acc)"
   ]
  },
  {
   "attachments": {},
   "cell_type": "markdown",
   "metadata": {},
   "source": [
    "importance=200일 때"
   ]
  },
  {
   "cell_type": "code",
   "execution_count": 149,
   "metadata": {},
   "outputs": [
    {
     "name": "stdout",
     "output_type": "stream",
     "text": [
      "새로운 class 추가 후 과거 데이터에서의 정확도:  0.755\n",
      "새로운 class 추가 후 전체 데이터에서의 정확도: 0.8366667\n"
     ]
    }
   ],
   "source": [
    "acc = test(model.to(device), test_loader)\n",
    "acc = acc.detach().cpu().numpy()\n",
    "print('새로운 class 추가 후 과거 데이터에서의 정확도: ', acc)\n",
    "\n",
    "total_acc = test(model.to(device), test_loader2)\n",
    "total_acc = total_acc.detach().cpu().numpy()\n",
    "print('새로운 class 추가 후 전체 데이터에서의 정확도:', total_acc)"
   ]
  },
  {
   "attachments": {},
   "cell_type": "markdown",
   "metadata": {},
   "source": [
    "importance=100일때"
   ]
  },
  {
   "cell_type": "code",
   "execution_count": 147,
   "metadata": {},
   "outputs": [
    {
     "name": "stdout",
     "output_type": "stream",
     "text": [
      "새로운 class 추가 후 과거 데이터에서의 정확도:  0.71999997\n",
      "새로운 class 추가 후 전체 데이터에서의 정확도: 0.81333333\n"
     ]
    }
   ],
   "source": [
    "model = torch.load(\"results/ewcmodel1.pth\")\n",
    "\n",
    "acc = test(model.to(device), test_loader)\n",
    "acc = acc.detach().cpu().numpy()\n",
    "print('새로운 class 추가 후 과거 데이터에서의 정확도: ', acc)\n",
    "\n",
    "total_acc = test(model.to(device), test_loader2)\n",
    "total_acc = total_acc.detach().cpu().numpy()\n",
    "print('새로운 class 추가 후 전체 데이터에서의 정확도:', total_acc)"
   ]
  },
  {
   "cell_type": "code",
   "execution_count": 135,
   "metadata": {},
   "outputs": [],
   "source": [
    "tmp = ewc.model.cpu()\n",
    "torch.save(tmp, \"results/ewcmodel1.pth\")"
   ]
  },
  {
   "attachments": {},
   "cell_type": "markdown",
   "metadata": {},
   "source": [
    "importance=50일 때"
   ]
  },
  {
   "cell_type": "code",
   "execution_count": 145,
   "metadata": {},
   "outputs": [
    {
     "name": "stdout",
     "output_type": "stream",
     "text": [
      "새로운 class 추가 후 과거 데이터에서의 정확도:  0.695\n",
      "새로운 class 추가 후 전체 데이터에서의 정확도: 0.7966667\n"
     ]
    }
   ],
   "source": [
    "ewc.model.eval()\n",
    "\n",
    "acc = test(ewc.model.to(device), test_loader)\n",
    "acc = acc.detach().cpu().numpy()\n",
    "print('새로운 class 추가 후 과거 데이터에서의 정확도: ', acc)\n",
    "\n",
    "total_acc = test(ewc.model.to(device), test_loader2)\n",
    "total_acc = total_acc.detach().cpu().numpy()\n",
    "print('새로운 class 추가 후 전체 데이터에서의 정확도:', total_acc)"
   ]
  }
 ],
 "metadata": {
  "kernelspec": {
   "display_name": "smart-service-ewc",
   "language": "python",
   "name": "python3"
  },
  "language_info": {
   "codemirror_mode": {
    "name": "ipython",
    "version": 3
   },
   "file_extension": ".py",
   "mimetype": "text/x-python",
   "name": "python",
   "nbconvert_exporter": "python",
   "pygments_lexer": "ipython3",
   "version": "3.8.16"
  },
  "orig_nbformat": 4
 },
 "nbformat": 4,
 "nbformat_minor": 2
}
